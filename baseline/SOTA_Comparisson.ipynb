{
 "cells": [
  {
   "cell_type": "markdown",
   "id": "71704a6e",
   "metadata": {},
   "source": [
    "# Baseline \n",
    "\n",
    "To evaluate the performance of our predictor, we compare it to ERGO, ImRex, and TITAN."
   ]
  },
  {
   "cell_type": "code",
   "execution_count": 1,
   "id": "799efa0b",
   "metadata": {},
   "outputs": [],
   "source": [
    "import warnings\n",
    "import pandas as pd\n",
    "import numpy as np\n",
    "from itertools import product\n",
    "from sklearn import metrics\n",
    "import matplotlib.pyplot as plt\n",
    "import matplotlib as mpl\n",
    "import seaborn as sns\n",
    "\n",
    "from pandas.core.common import SettingWithCopyWarning\n",
    "warnings.simplefilter(action=\"ignore\", category=SettingWithCopyWarning)"
   ]
  },
  {
   "cell_type": "code",
   "execution_count": 2,
   "id": "45b6cb24",
   "metadata": {},
   "outputs": [],
   "source": [
    "import sys\n",
    "sys.path.append('../activation-prediction/')"
   ]
  },
  {
   "cell_type": "code",
   "execution_count": 3,
   "id": "aafda590",
   "metadata": {},
   "outputs": [],
   "source": [
    "from preprocessing import add_activation_thresholds, full_aa_features, get_aa_features \n",
    "from preprocessing import get_complete_dataset, get_tumor_dataset, get_cmv_dataset"
   ]
  },
  {
   "cell_type": "markdown",
   "id": "2e1b5450",
   "metadata": {},
   "source": [
    "# 1. Raw Data"
   ]
  },
  {
   "cell_type": "code",
   "execution_count": 4,
   "id": "5384ea6b",
   "metadata": {},
   "outputs": [
    {
     "name": "stdout",
     "output_type": "stream",
     "text": [
      "18054\n",
      "3800\n"
     ]
    }
   ],
   "source": [
    "data = get_complete_dataset()\n",
    "data = add_activation_thresholds(data)\n",
    "print(len(data))\n",
    "data = data[data['normalization']=='AS']\n",
    "data = data[data['threshold']=='46.9']\n",
    "data = data[data['epitope']!='SIINFEKL']\n",
    "#data = data[data['is_educated']==True]\n",
    "print(len(data))"
   ]
  },
  {
   "cell_type": "code",
   "execution_count": 5,
   "id": "8725f7ca",
   "metadata": {},
   "outputs": [
    {
     "name": "stdout",
     "output_type": "stream",
     "text": [
      "1608\n",
      "798\n"
     ]
    }
   ],
   "source": [
    "data_tumor = get_tumor_dataset()\n",
    "data_tumor = add_activation_thresholds(data_tumor, epitope='VPSVWRSSL')\n",
    "print(len(data_tumor))\n",
    "data_tumor = data_tumor[data_tumor['normalization']=='pc']\n",
    "data_tumor = data_tumor[data_tumor['threshold']=='66.09']\n",
    "data_tumor = data_tumor[data_tumor['epitope']!='VPSVWRSSL']\n",
    "print(len(data_tumor))"
   ]
  },
  {
   "cell_type": "code",
   "execution_count": 6,
   "id": "5affb72e",
   "metadata": {},
   "outputs": [
    {
     "name": "stdout",
     "output_type": "stream",
     "text": [
      "3440\n",
      "3420\n"
     ]
    }
   ],
   "source": [
    "data_cmv = get_cmv_dataset()\n",
    "data_cmv = add_activation_thresholds(data_cmv, epitope='NLVPMVATV')\n",
    "print(len(data_cmv))\n",
    "data_cmv = data_cmv[data_cmv['normalization']=='none']\n",
    "data_cmv = data_cmv[data_cmv['threshold']=='40.0']\n",
    "data_cmv = data_cmv[data_cmv['epitope']!='NLVPMVATV']\n",
    "print(len(data_cmv))"
   ]
  },
  {
   "cell_type": "markdown",
   "id": "7a21d6de",
   "metadata": {},
   "source": [
    "# 2. Data Preparation"
   ]
  },
  {
   "cell_type": "markdown",
   "id": "19eee79f",
   "metadata": {},
   "source": [
    "### Ergo\n",
    "\n",
    "Creates a csv file with columns [CDR3, epitope]. All combinations between the TCRs of the educated repertoire and the mutations are used."
   ]
  },
  {
   "cell_type": "code",
   "execution_count": 7,
   "id": "35e081b2",
   "metadata": {
    "scrolled": true
   },
   "outputs": [],
   "source": [
    "def format_to_ergo(df, cols=None, name='ergo_baseline_all_pairs'):\n",
    "    if cols is None:\n",
    "        cols = []\n",
    "    data_ergo = df[['cdr3b', 'cdr3a', 'epitope', 'tcr'] + cols]\n",
    "    data_ergo = data_ergo.rename(columns={'cdr3b': 'TRB', 'cdr3a': 'TRA', 'epitope': 'Peptide'})\n",
    "    for col in ['TRAV', 'TRAJ', 'TRBV', 'TRBJ', 'T-Cell-Type', 'MHC']:\n",
    "        data_ergo[col] = ''\n",
    "    data_ergo.to_csv(f'data/{name}.csv')\n",
    "    return data_ergo\n",
    "\n",
    "data_ergo = format_to_ergo(data, cols=['is_educated']).head(5)"
   ]
  },
  {
   "cell_type": "code",
   "execution_count": 8,
   "id": "52e286ee",
   "metadata": {},
   "outputs": [],
   "source": [
    "data_ergo_tumor = format_to_ergo(data_tumor, name='ergo_tumor_baseline_all_pairs').head(5)"
   ]
  },
  {
   "cell_type": "code",
   "execution_count": 9,
   "id": "f236e1ac",
   "metadata": {},
   "outputs": [],
   "source": [
    "data_ergo_cmv = format_to_ergo(data_cmv, name='ergo_cmv_baseline_all_pairs').head(5)"
   ]
  },
  {
   "cell_type": "markdown",
   "id": "9ed451d0",
   "metadata": {},
   "source": [
    "### ImRex\n",
    "\n",
    "https://github.com/pmoris/ImRex"
   ]
  },
  {
   "cell_type": "code",
   "execution_count": 10,
   "id": "404d06e5",
   "metadata": {},
   "outputs": [],
   "source": [
    "def format_to_imrex(df, cols=None, name='imrex_baseline_all_pairs'):\n",
    "    if cols is None:\n",
    "        cols = []\n",
    "    df_imrex = df[['cdr3b', 'cdr3a', 'epitope', 'tcr', ] + cols]\n",
    "    df_imrex = df_imrex.rename(columns={'cdr3b': 'cdr3', 'epitope': 'antigen.epitope'})\n",
    "    df_imrex.to_csv(f'data/{name}.csv', sep=';', index=False)\n",
    "    return df_imrex\n",
    "data_imrex = format_to_imrex(data, cols=['is_educated']).head(5)"
   ]
  },
  {
   "cell_type": "code",
   "execution_count": 11,
   "id": "8407df23",
   "metadata": {},
   "outputs": [],
   "source": [
    "data_imrex_tumor = format_to_imrex(data_tumor, name='imrex_tumor_baseline_all_pairs').head(5)"
   ]
  },
  {
   "cell_type": "code",
   "execution_count": 12,
   "id": "d6e4bf30",
   "metadata": {},
   "outputs": [],
   "source": [
    "data_imrex_cmv = format_to_imrex(data_cmv, name='imrex_cmv_baseline_all_pairs').head(5)"
   ]
  },
  {
   "cell_type": "markdown",
   "id": "d644693d",
   "metadata": {},
   "source": [
    "### Titan\n",
    "https://github.com/PaccMann/TITAN\n",
    "The data needs to be in the following format:\n",
    "- tcrs (csv): sequence, id\n",
    "- epitopes (csv): sequence, id\n",
    "- test_tcrs (csv): id_tcr, id_epitope, label (label dummy value)\n",
    "\n",
    "Both csv files without header + tab separated."
   ]
  },
  {
   "cell_type": "markdown",
   "id": "0cf53c44",
   "metadata": {},
   "source": [
    "def format_to_titan(df, cols=None, name='titan_'):\n",
    "    data_epitope = df[['epitope']]\n",
    "    data_epitope['id'] = data_epitope.index.values\n",
    "    data_epitope.to_csv(f'data/{name}_epitopes.csv', sep='\\t', index=False, header=False)\n",
    "    \n",
    "    data_tcr = df[['cdr3b']]\n",
    "    data_tcr['id'] = data_tcr.index.values\n",
    "    data_tcr.to_csv(f'data/{name}_tcrs.csv', sep='\\t', index=False, header=False)\n",
    "    \n",
    "    data_test = data_tcr[['id']]\n",
    "    data_test['ligand_name'] = data_epitope['id'].values\n",
    "    data_test['sequence_id'] = data_tcr['id'].values\n",
    "    data_test['label'] = df.apply(lambda row: 1 if row['is_activated'] else 0, axis=1)\n",
    "    data_test = data_test[['ligand_name', 'sequence_id', 'label']]\n",
    "    data_test.to_csv(f'data/{name}_test_ids.csv')\n",
    "    return data_epitope, data_tcr, data_test\n",
    "\n",
    "_, _, _ = format_to_titan(data, cols=['is_educated'])"
   ]
  },
  {
   "cell_type": "markdown",
   "id": "bc0f85a0",
   "metadata": {},
   "source": [
    "_, _, _ = format_to_titan(data_tumor, name='titan_tumor')"
   ]
  },
  {
   "cell_type": "markdown",
   "id": "ee2c0f1f",
   "metadata": {},
   "source": [
    "# 3. Prediction\n",
    "Prediction with the individual models was performed in external conda environments to avoid dependency conflicts."
   ]
  },
  {
   "cell_type": "markdown",
   "id": "337444d9",
   "metadata": {},
   "source": [
    "### Ergo\n",
    "Prediction was performed as described in https://github.com/IdoSpringer/ERGO-II using the github version and downloaded models. You will need to adjust the ERGO-II code to save a dataframe. Also, smaller bugs need to be fixed following the GitHub issues.\n",
    "\n",
    "```\n",
    "python Predict.py mcpas ../data/ergo_baseline_all_pairs.csv ../results_pred/ergo_mcpas.csv\n",
    "python Predict.py vdjdb ../data/ergo_baseline_all_pairs.csv ../results_pred/ergo_vdjdb.csv\n",
    "\n",
    "python Predict.py mcpas ../data/ergo_tumor_baseline_all_pairs.csv ../results_pred/ergo_mcpas_tumor.csv\n",
    "python Predict.py vdjdb ../data/ergo_tumor_baseline_all_pairs.csv ../results_pred/ergo_vdjdb_tumor.csv\n",
    "\n",
    "python Predict.py mcpas ../data/ergo_cmv_baseline_all_pairs.csv ../results_pred/ergo_mcpas_cmv.csv\n",
    "python Predict.py vdjdb ../data/ergo_cmv_baseline_all_pairs.csv ../results_pred/ergo_vdjdb_cmv.csv\n",
    "```"
   ]
  },
  {
   "cell_type": "markdown",
   "id": "28821c73",
   "metadata": {},
   "source": [
    "### Imrex\n",
    "```\n",
    "python src/scripts/predict/predict.py --model ./models/pretrained/2020-07-24_19-18-39_trbmhcidown-shuffle-padded-b32-lre4-reg001/2020-07-24_19-18-39_trbmhcidown-shuffle-padded-b32-lre4-reg001.h5 --input ../data/imrex_baseline_all_pairs.csv --output ../results_pred/imrex.csv\n",
    "\n",
    "python src/scripts/predict/predict.py --model ./models/pretrained/2020-07-24_19-18-39_trbmhcidown-shuffle-padded-b32-lre4-reg001/2020-07-24_19-18-39_trbmhcidown-shuffle-padded-b32-lre4-reg001.h5 --input ../data/imrex_tumor_baseline_all_pairs.csv --output ../results_pred/imrex_tumor.csv\n",
    "\n",
    "python src/scripts/predict/predict.py --model ./models/pretrained/2020-07-24_19-18-39_trbmhcidown-shuffle-padded-b32-lre4-reg001/2020-07-24_19-18-39_trbmhcidown-shuffle-padded-b32-lre4-reg001.h5 --input ../data/imrex_cmv_baseline_all_pairs.csv --output ../results_pred/imrex_cmv.csv\n",
    "```"
   ]
  },
  {
   "cell_type": "markdown",
   "id": "b5e9c25b",
   "metadata": {},
   "source": [
    "### TITAN\n",
    "- Install TITAN from github (see above) including the pretrained model referenced on github\n",
    "- Use their pytoda module to convert the input_titan_epitopes.csv to smi\n",
    "- Change the batch size in model_params.json to a true divider of the dataset size since otherwise the last batch is not handled correctly\n",
    "- Run following comand with adapted paths depending on your installation\n",
    "\n",
    "Data Preprocessing (Not part of the notebook as it needs the TITAN dependencies, Sorry, for inconvenience)\n",
    "```\n",
    "from pytoda import proteins\n",
    "import pandas as pd\n",
    "\n",
    "def amino_2_smiles(df_aas, path_out):\n",
    "    df_aas['smiles'] = df_aas[0].apply(proteins.utils.aas_to_smiles)\n",
    "    df_aas = df_aas[['smiles', 1]]\n",
    "    df_aas.to_csv(path_out, header=None, sep='\\t', index=False)\n",
    "\n",
    "df_siin = pd.read_csv('../data/titan__epitopes.csv', sep='\\t', header=None)\n",
    "amino_2_smiles(df_siin, '../data/titan__epitopes.smi')\n",
    "\n",
    "df_tumor = pd.read_csv('../data/titan_tumor_epitopes.csv', sep='\\t', header=None)\n",
    "amino_2_smiles(df_tumor, '../data/titan_tumor_epitopes.smi')\n",
    "```\n",
    "\n",
    "Running Predictors:\n",
    "\n",
    "```\n",
    "python scripts/flexible_model_eval.py ../data/titan__test_ids.csv ../data/titan__tcrs.csv ../data/titan__epitopes.smi trained_model bimodal_mca ../../../results_pred/titan\n",
    "\n",
    "python scripts/flexible_model_eval.py ../data/titan_tumor_test_ids.csv ../data/titan_tumor_tcrs.csv ../data/titan_tumor_epitopes.smi trained_model bimodal_mca ../../../results_pred/titan_tumor\n",
    "```"
   ]
  },
  {
   "cell_type": "markdown",
   "id": "4d80d590",
   "metadata": {},
   "source": [
    "# 4. Output"
   ]
  },
  {
   "cell_type": "code",
   "execution_count": 13,
   "id": "7d2fd7a0",
   "metadata": {},
   "outputs": [],
   "source": [
    "def transform_imrex_output(name_in, tumor=False):\n",
    "    df = pd.read_csv(name_in)\n",
    "    df = df.rename(columns={'prediction_score': 'prediction'})\n",
    "    \n",
    "    ground_truth = data\n",
    "    if tumor:\n",
    "        ground_truth = data_tumor\n",
    "    \n",
    "    # Check whether order is right\n",
    "    assert (df['cdr3'].values == ground_truth['cdr3b'].values).all()\n",
    "    assert (df['tcr'].values == ground_truth['tcr'].values).all()\n",
    "    assert (df['antigen.epitope'].values == ground_truth['epitope'].values).all()\n",
    "    \n",
    "    df['activation'] = ground_truth['activation'].values\n",
    "    df['is_activated'] = ground_truth['is_activated'].values\n",
    "    \n",
    "    df = df[~df['antigen.epitope'].isin(['SIINFEKL', 'VPSVWRSSL'])].copy()\n",
    "    return df"
   ]
  },
  {
   "cell_type": "code",
   "execution_count": 14,
   "id": "e3ae0fa4",
   "metadata": {},
   "outputs": [],
   "source": [
    "def transform_ergo_output(name_in, tumor=False):\n",
    "    df = pd.read_csv(name_in)\n",
    "    df = df.rename(columns={'Score': 'prediction'})\n",
    "    \n",
    "    ground_truth = data\n",
    "    if tumor:\n",
    "        ground_truth = data_tumor\n",
    "    \n",
    "    # Check whether order is right\n",
    "    assert (df['TRB'].values == ground_truth['cdr3b'].values).all()\n",
    "    assert (df['tcr'].values == ground_truth['tcr'].values).all()\n",
    "    assert (df['Peptide'].values == ground_truth['epitope'].values).all()\n",
    "    \n",
    "    df['activation'] = ground_truth['activation'].values\n",
    "    df['is_activated'] = ground_truth['is_activated'].values\n",
    "    return df"
   ]
  },
  {
   "cell_type": "code",
   "execution_count": 15,
   "id": "a378c2cf",
   "metadata": {},
   "outputs": [],
   "source": [
    "def transform_titan_output(name_in, tumor=False):\n",
    "    path_titan_res = f'results/output_titan_prediction.npy'\n",
    "    scores = np.load(name_in)[0]\n",
    "    df = data.copy()\n",
    "    if tumor:\n",
    "        df = data_tumor\n",
    "    df['prediction'] = scores\n",
    "    return df"
   ]
  },
  {
   "cell_type": "code",
   "execution_count": 18,
   "id": "0b45a52f",
   "metadata": {},
   "outputs": [],
   "source": [
    "def transform_ours_output(name_in, tumor=False):\n",
    "    df = pd.read_csv(name_in, compression='gzip')\n",
    "    if not tumor:\n",
    "        df = df[df['normalization']=='AS']\n",
    "        df = df[df['threshold']==46.9]\n",
    "        df = df[df['tcr'].isin(data['tcr'].unique())]\n",
    "    else:\n",
    "        df = df[df['normalization']=='pc']\n",
    "        df = df[df['threshold']==66.09]\n",
    "        df = df[df['tcr'].isin(data_tumor['tcr'].unique())]\n",
    "        df = df[df['reduced_features']]\n",
    "    \n",
    "    df = df.rename(columns={'pred': 'prediction'})\n",
    "    \n",
    "    ground_truth = data.copy()\n",
    "    base_epitope = 'SIINFEKL'\n",
    "    if tumor:\n",
    "        ground_truth = data_tumor.copy()\n",
    "        base_epitope = 'VPSVWRSSL'\n",
    "    \n",
    "    def create_epitope(row):\n",
    "        pos = row['mut_pos']\n",
    "        aa = row['mut_ami']\n",
    "        epitope = base_epitope[:pos] + aa + base_epitope[pos+1:]\n",
    "        return epitope\n",
    "    \n",
    "    df['epitope'] = df.apply(create_epitope, axis=1)\n",
    "    \n",
    "    # Check whether order is right    \n",
    "    assert (df['tcr'].values == ground_truth['tcr'].values).all()\n",
    "    assert (df['epitope'].values == ground_truth['epitope'].values).all()\n",
    "    \n",
    "    df['activation'] = ground_truth['activation'].values\n",
    "    df['is_activated'] = ground_truth['is_activated'].values\n",
    "    return df\n",
    "#transform_ours_output('results_pred/VPSVWRSSL_tcr_stratified_classification_performance.csv.gz', True)"
   ]
  },
  {
   "cell_type": "code",
   "execution_count": 19,
   "id": "00c93f5e",
   "metadata": {},
   "outputs": [
    {
     "name": "stderr",
     "output_type": "stream",
     "text": [
      "<ipython-input-13-54eb5759405e>:10: DeprecationWarning: elementwise comparison failed; this will raise an error in the future.\n",
      "  assert (df['cdr3'].values == ground_truth['cdr3b'].values).all()\n"
     ]
    },
    {
     "ename": "AttributeError",
     "evalue": "'bool' object has no attribute 'all'",
     "output_type": "error",
     "traceback": [
      "\u001b[1;31m---------------------------------------------------------------------------\u001b[0m",
      "\u001b[1;31mAttributeError\u001b[0m                            Traceback (most recent call last)",
      "\u001b[1;32m<ipython-input-19-a79cfaa662c1>\u001b[0m in \u001b[0;36m<module>\u001b[1;34m\u001b[0m\n\u001b[0;32m      1\u001b[0m predictions_siinfekl = {\n\u001b[1;32m----> 2\u001b[1;33m     \u001b[1;34m'imRex'\u001b[0m\u001b[1;33m:\u001b[0m \u001b[0mtransform_imrex_output\u001b[0m\u001b[1;33m(\u001b[0m\u001b[1;34m'results_pred/imrex.csv'\u001b[0m\u001b[1;33m)\u001b[0m\u001b[1;33m,\u001b[0m\u001b[1;33m\u001b[0m\u001b[1;33m\u001b[0m\u001b[0m\n\u001b[0m\u001b[0;32m      3\u001b[0m     \u001b[1;34m'ERGO-II_mcpas'\u001b[0m\u001b[1;33m:\u001b[0m \u001b[0mtransform_ergo_output\u001b[0m\u001b[1;33m(\u001b[0m\u001b[1;34m'results_pred/ergo_mcpas.csv'\u001b[0m\u001b[1;33m)\u001b[0m\u001b[1;33m,\u001b[0m\u001b[1;33m\u001b[0m\u001b[1;33m\u001b[0m\u001b[0m\n\u001b[0;32m      4\u001b[0m     \u001b[1;34m'ERGO-II_vdjdb'\u001b[0m\u001b[1;33m:\u001b[0m \u001b[0mtransform_ergo_output\u001b[0m\u001b[1;33m(\u001b[0m\u001b[1;34m'results_pred/ergo_vdjdb.csv'\u001b[0m\u001b[1;33m)\u001b[0m\u001b[1;33m,\u001b[0m\u001b[1;33m\u001b[0m\u001b[1;33m\u001b[0m\u001b[0m\n\u001b[0;32m      5\u001b[0m     \u001b[1;31m#'TITAN': transform_titan_output('results_pred/titan.npy'),\u001b[0m\u001b[1;33m\u001b[0m\u001b[1;33m\u001b[0m\u001b[1;33m\u001b[0m\u001b[0m\n",
      "\u001b[1;32m<ipython-input-13-54eb5759405e>\u001b[0m in \u001b[0;36mtransform_imrex_output\u001b[1;34m(name_in, tumor)\u001b[0m\n\u001b[0;32m      8\u001b[0m \u001b[1;33m\u001b[0m\u001b[0m\n\u001b[0;32m      9\u001b[0m     \u001b[1;31m# Check whether order is right\u001b[0m\u001b[1;33m\u001b[0m\u001b[1;33m\u001b[0m\u001b[1;33m\u001b[0m\u001b[0m\n\u001b[1;32m---> 10\u001b[1;33m     \u001b[1;32massert\u001b[0m \u001b[1;33m(\u001b[0m\u001b[0mdf\u001b[0m\u001b[1;33m[\u001b[0m\u001b[1;34m'cdr3'\u001b[0m\u001b[1;33m]\u001b[0m\u001b[1;33m.\u001b[0m\u001b[0mvalues\u001b[0m \u001b[1;33m==\u001b[0m \u001b[0mground_truth\u001b[0m\u001b[1;33m[\u001b[0m\u001b[1;34m'cdr3b'\u001b[0m\u001b[1;33m]\u001b[0m\u001b[1;33m.\u001b[0m\u001b[0mvalues\u001b[0m\u001b[1;33m)\u001b[0m\u001b[1;33m.\u001b[0m\u001b[0mall\u001b[0m\u001b[1;33m(\u001b[0m\u001b[1;33m)\u001b[0m\u001b[1;33m\u001b[0m\u001b[1;33m\u001b[0m\u001b[0m\n\u001b[0m\u001b[0;32m     11\u001b[0m     \u001b[1;32massert\u001b[0m \u001b[1;33m(\u001b[0m\u001b[0mdf\u001b[0m\u001b[1;33m[\u001b[0m\u001b[1;34m'tcr'\u001b[0m\u001b[1;33m]\u001b[0m\u001b[1;33m.\u001b[0m\u001b[0mvalues\u001b[0m \u001b[1;33m==\u001b[0m \u001b[0mground_truth\u001b[0m\u001b[1;33m[\u001b[0m\u001b[1;34m'tcr'\u001b[0m\u001b[1;33m]\u001b[0m\u001b[1;33m.\u001b[0m\u001b[0mvalues\u001b[0m\u001b[1;33m)\u001b[0m\u001b[1;33m.\u001b[0m\u001b[0mall\u001b[0m\u001b[1;33m(\u001b[0m\u001b[1;33m)\u001b[0m\u001b[1;33m\u001b[0m\u001b[1;33m\u001b[0m\u001b[0m\n\u001b[0;32m     12\u001b[0m     \u001b[1;32massert\u001b[0m \u001b[1;33m(\u001b[0m\u001b[0mdf\u001b[0m\u001b[1;33m[\u001b[0m\u001b[1;34m'antigen.epitope'\u001b[0m\u001b[1;33m]\u001b[0m\u001b[1;33m.\u001b[0m\u001b[0mvalues\u001b[0m \u001b[1;33m==\u001b[0m \u001b[0mground_truth\u001b[0m\u001b[1;33m[\u001b[0m\u001b[1;34m'epitope'\u001b[0m\u001b[1;33m]\u001b[0m\u001b[1;33m.\u001b[0m\u001b[0mvalues\u001b[0m\u001b[1;33m)\u001b[0m\u001b[1;33m.\u001b[0m\u001b[0mall\u001b[0m\u001b[1;33m(\u001b[0m\u001b[1;33m)\u001b[0m\u001b[1;33m\u001b[0m\u001b[1;33m\u001b[0m\u001b[0m\n",
      "\u001b[1;31mAttributeError\u001b[0m: 'bool' object has no attribute 'all'"
     ]
    }
   ],
   "source": [
    "predictions_siinfekl = {\n",
    "    'imRex': transform_imrex_output('results_pred/imrex.csv'),\n",
    "    'ERGO-II_mcpas': transform_ergo_output('results_pred/ergo_mcpas.csv'),\n",
    "    'ERGO-II_vdjdb': transform_ergo_output('results_pred/ergo_vdjdb.csv'),\n",
    "    #'TITAN': transform_titan_output('results_pred/titan.npy'),\n",
    "    'Ours': transform_ours_output('results_pred/SIINFEKL_tcr_stratified_classification_performance.csv.gz')\n",
    "}\n",
    "\n",
    "predictions_tumor = {\n",
    "    'imRex': transform_imrex_output('results_pred/imrex_tumor.csv', True),\n",
    "    'ERGO-II_mcpas': transform_ergo_output('results_pred/ergo_mcpas_tumor.csv', True),\n",
    "    'ERGO-II_vdjdb': transform_ergo_output('results_pred/ergo_vdjdb_tumor.csv', True),\n",
    "    #'TITAN': transform_titan_output('results_pred/titan_tumor.npy', True),\n",
    "    'Ours': transform_ours_output('results_pred/VPSVWRSSL_tcr_stratified_classification_performance.csv.gz', True)\n",
    "}\n",
    "\n",
    "predictions_cmv = {\n",
    "    'imRex': transform_imrex_output('results_pred/imrex_cmv.csv', True),\n",
    "    'ERGO-II_mcpas': transform_ergo_output('results_pred/ergo_mcpas_cmv.csv', True),\n",
    "    'ERGO-II_vdjdb': transform_ergo_output('results_pred/ergo_vdjdb_cmv.csv', True),\n",
    "    'Ours': transform_ours_output('results_pred/NLVPMVATV_tcr_stratified_classification_performance.csv.gz', True)\n",
    "}"
   ]
  },
  {
   "cell_type": "markdown",
   "id": "2f94be31",
   "metadata": {},
   "source": [
    "# 5. Evaluation"
   ]
  },
  {
   "cell_type": "code",
   "execution_count": null,
   "id": "e6bac475",
   "metadata": {},
   "outputs": [],
   "source": [
    "def evaluate_model(df_pred):\n",
    "    tcrs = []\n",
    "    aucs = []\n",
    "    spearmans = []\n",
    "    for tcr in df_pred['tcr'].unique():\n",
    "        df_test = df_pred[df_pred['tcr'] == tcr]\n",
    "        tcrs.append(tcr)\n",
    "\n",
    "        auc_score = metrics.roc_auc_score(df_test['is_activated'], df_test['prediction'])\n",
    "        aucs.append(auc_score)\n",
    "        \n",
    "        sp_score = df_test['activation'].corr(df_test['prediction'], method='spearman')\n",
    "        spearmans.append(sp_score)\n",
    "    df_out = pd.DataFrame(data={'TCR': tcrs, 'AUC': aucs, 'Spearman': spearmans})\n",
    "    return df_out\n",
    "    \n",
    "performance_siinfekl = {name: evaluate_model(preds) for name, preds in predictions_siinfekl.items()}\n",
    "performance_tumor = {name: evaluate_model(preds) for name, preds in predictions_tumor.items()}"
   ]
  },
  {
   "cell_type": "code",
   "execution_count": null,
   "id": "1f1c9a78",
   "metadata": {},
   "outputs": [],
   "source": [
    "educated_colors = sns.color_palette('Oranges', n_colors=len(data.query('is_educated')['tcr'].unique()) + 4)\n",
    "educated_idx = 1\n",
    "\n",
    "naive_colors = sns.color_palette('Blues', n_colors=len(data.query('~is_educated')['tcr'].unique()) + 4)\n",
    "naive_idx = 1\n",
    "\n",
    "ot1_colors = sns.color_palette('Greens', n_colors=2)\n",
    "ot1_idx = 1\n",
    "\n",
    "tumor_colors = sns.color_palette('Reds', n_colors=8)\n",
    "tumor_idx = 1\n",
    "\n",
    "cmv_colors = sns.color_palette('GnBu', n_colors=8)\n",
    "cmv_idx = 1\n",
    "\n",
    "tcr_2_color ={}\n",
    "for tcr in data['tcr'].unique().tolist() + data_tumor['tcr'].unique().tolist():\n",
    "    if tcr == 'OTI_PH':\n",
    "        tcr_2_color[tcr] = ot1_colors[ot1_idx]\n",
    "        ot1_idx += 1\n",
    "    elif tcr.startswith('ED'):\n",
    "        tcr_2_color[tcr] = educated_colors[educated_idx]\n",
    "        educated_idx += 1\n",
    "    elif tcr.startswith('R'):\n",
    "        tcr_2_color[tcr] = tumor_colors[tumor_idx]\n",
    "        tumor_idx += 1\n",
    "    elif tcr.startswith('TCR'):\n",
    "        tcr_2_color[tcr] = cmv_colors[cmv_idx]\n",
    "        cmv_idx += 1\n",
    "    else:\n",
    "        tcr_2_color[tcr] = naive_colors[naive_idx]\n",
    "        naive_idx += 1"
   ]
  },
  {
   "cell_type": "code",
   "execution_count": null,
   "id": "f33c8c79",
   "metadata": {},
   "outputs": [],
   "source": [
    "def summarize(perf, metric):\n",
    "    df_summary = pd.DataFrame(index=list(perf.values())[0]['TCR'])\n",
    "    for name, df in perf.items():\n",
    "        df_summary[f'{name}'] = df[metric].values\n",
    "    \n",
    "    df_summary = df_summary[~df_summary.index.isin(['LR_OTI_1', 'LR_OTI_2'])]\n",
    "    df_summary['color'] = df_summary.index.map(tcr_2_color)\n",
    "    return df_summary\n",
    "siinfekl_auc = summarize(performance_siinfekl, metric='AUC')\n",
    "siinfekl_spearman = summarize(performance_siinfekl, metric='Spearman')\n",
    "\n",
    "tumor_auc = summarize(performance_tumor, metric='AUC')\n",
    "tumor_spearman = summarize(performance_tumor, metric='Spearman')\n",
    "\n",
    "cmv_auc = summarize(performance_cmv, metric='AUC')\n",
    "cmv_spearman = summarize(performance_cmv, metric='Spearman')"
   ]
  },
  {
   "cell_type": "markdown",
   "id": "aa2cf76b",
   "metadata": {},
   "source": [
    "# 6. Summary"
   ]
  },
  {
   "cell_type": "code",
   "execution_count": null,
   "id": "54cbe9af",
   "metadata": {},
   "outputs": [],
   "source": [
    "print('SIINFEKL Mean AUC:\\n', siinfekl_auc.mean())\n",
    "print('\\nSIINFEKL Mean Spearman:\\n', siinfekl_spearman.mean())\n",
    "\n",
    "print('Tumor Mean AUC:\\n', tumor_auc.mean())\n",
    "print('\\nTumor Mean Spearman:\\n', tumor_spearman.mean())\n",
    "\n",
    "print('CMV Mean AUC:\\n', cmv_auc.mean())\n",
    "print('\\nCMV Mean Spearman:\\n', cmv_spearman.mean())"
   ]
  },
  {
   "cell_type": "code",
   "execution_count": null,
   "id": "f5e1696f",
   "metadata": {},
   "outputs": [],
   "source": [
    "def catplot(df, metric):\n",
    "    df_tmp = df.copy()\n",
    "    df_tmp['TCR'] = df_tmp.index\n",
    "    df_tmp = df_tmp.melt(['TCR', 'color'])\n",
    "    plot_cat = sns.catplot(data=df_tmp, x='variable', y='value', hue='TCR',\n",
    "                          palette=df_tmp['color'],\n",
    "                          kind='swarm',\n",
    "                          height=5, aspect=8/5)\n",
    "    plot_cat.set(ylabel=metric)\n",
    "\n",
    "    plot_cat._legend.remove()\n",
    "    plot_cat.set(xlabel=None)\n",
    "    plt.grid(False)\n",
    "    sns.despine()\n",
    "    plt.plot()\n",
    "\n",
    "catplot(siinfekl_auc, 'AUC')\n",
    "catplot(siinfekl_spearman, 'Spearman')\n",
    "catplot(tumor_auc, 'AUC')\n",
    "catplot(tumor_spearman, 'Spearman')"
   ]
  }
 ],
 "metadata": {
  "kernelspec": {
   "display_name": "Python [conda env:mutagenesis]",
   "language": "python",
   "name": "conda-env-mutagenesis-py"
  },
  "language_info": {
   "codemirror_mode": {
    "name": "ipython",
    "version": 3
   },
   "file_extension": ".py",
   "mimetype": "text/x-python",
   "name": "python",
   "nbconvert_exporter": "python",
   "pygments_lexer": "ipython3",
   "version": "3.8.10"
  }
 },
 "nbformat": 4,
 "nbformat_minor": 5
}
