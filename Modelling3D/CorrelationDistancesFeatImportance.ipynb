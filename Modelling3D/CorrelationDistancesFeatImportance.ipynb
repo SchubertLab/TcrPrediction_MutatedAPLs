{
 "cells": [
  {
   "cell_type": "markdown",
   "id": "f4833260",
   "metadata": {},
   "source": [
    "# Correlation: Distances - Feature Importance"
   ]
  },
  {
   "cell_type": "markdown",
   "id": "137149a8",
   "metadata": {},
   "source": [
    "We observed, that the random forest predictor is sensitive to specific epitope positions, that are in close proximity to the CDR3 in the TCR. Let's quantify this."
   ]
  },
  {
   "cell_type": "code",
   "execution_count": 1,
   "id": "fb8e0b00",
   "metadata": {},
   "outputs": [],
   "source": [
    "import pandas as pd\n",
    "import numpy as np\n",
    "import seaborn as sns\n",
    "import matplotlib.pyplot as plt"
   ]
  },
  {
   "cell_type": "markdown",
   "id": "e8ebe606",
   "metadata": {},
   "source": [
    "## Distances"
   ]
  },
  {
   "cell_type": "markdown",
   "id": "f1b6979a",
   "metadata": {},
   "source": [
    "Calculate the average distances to each epitope position based on the 3D model created with TCRpMHCmodels 1.0 from the full receptorr and epitope sequence."
   ]
  },
  {
   "cell_type": "code",
   "execution_count": 2,
   "id": "a7716706",
   "metadata": {},
   "outputs": [
    {
     "data": {
      "text/html": [
       "<div>\n",
       "<style scoped>\n",
       "    .dataframe tbody tr th:only-of-type {\n",
       "        vertical-align: middle;\n",
       "    }\n",
       "\n",
       "    .dataframe tbody tr th {\n",
       "        vertical-align: top;\n",
       "    }\n",
       "\n",
       "    .dataframe thead th {\n",
       "        text-align: right;\n",
       "    }\n",
       "</style>\n",
       "<table border=\"1\" class=\"dataframe\">\n",
       "  <thead>\n",
       "    <tr style=\"text-align: right;\">\n",
       "      <th></th>\n",
       "      <th>features_alpha</th>\n",
       "      <th>features_beta</th>\n",
       "    </tr>\n",
       "  </thead>\n",
       "  <tbody>\n",
       "    <tr>\n",
       "      <th>B10</th>\n",
       "      <td>22.37471280620683,19.605202188139476,16.752810...</td>\n",
       "      <td>30.065579525742255,26.798206138904693,25.60129...</td>\n",
       "    </tr>\n",
       "    <tr>\n",
       "      <th>B11</th>\n",
       "      <td>22.66134290589852,19.963202212662306,16.810194...</td>\n",
       "      <td>29.556694650946824,26.230716868216643,25.29436...</td>\n",
       "    </tr>\n",
       "    <tr>\n",
       "      <th>B13</th>\n",
       "      <td>23.055718694541863,20.266017261300053,16.07493...</td>\n",
       "      <td>29.98517019591422,26.756179346368597,25.697666...</td>\n",
       "    </tr>\n",
       "    <tr>\n",
       "      <th>B14</th>\n",
       "      <td>23.323002309876163,20.10385754014805,16.804973...</td>\n",
       "      <td>30.22697262484288,26.649404452094572,26.002235...</td>\n",
       "    </tr>\n",
       "    <tr>\n",
       "      <th>B15</th>\n",
       "      <td>22.983889447017983,20.40675512122189,17.410218...</td>\n",
       "      <td>30.494359131199886,26.670454940293773,25.33920...</td>\n",
       "    </tr>\n",
       "  </tbody>\n",
       "</table>\n",
       "</div>"
      ],
      "text/plain": [
       "                                        features_alpha  \\\n",
       "B10  22.37471280620683,19.605202188139476,16.752810...   \n",
       "B11  22.66134290589852,19.963202212662306,16.810194...   \n",
       "B13  23.055718694541863,20.266017261300053,16.07493...   \n",
       "B14  23.323002309876163,20.10385754014805,16.804973...   \n",
       "B15  22.983889447017983,20.40675512122189,17.410218...   \n",
       "\n",
       "                                         features_beta  \n",
       "B10  30.065579525742255,26.798206138904693,25.60129...  \n",
       "B11  29.556694650946824,26.230716868216643,25.29436...  \n",
       "B13  29.98517019591422,26.756179346368597,25.697666...  \n",
       "B14  30.22697262484288,26.649404452094572,26.002235...  \n",
       "B15  30.494359131199886,26.670454940293773,25.33920...  "
      ]
     },
     "execution_count": 2,
     "metadata": {},
     "output_type": "execute_result"
    }
   ],
   "source": [
    "path_distances = 'Output/features/distances_SIINFEKL.csv'\n",
    "df_distances = pd.read_csv(path_distances, index_col=0)\n",
    "df_distances.head()"
   ]
  },
  {
   "cell_type": "code",
   "execution_count": 3,
   "id": "c97b34c2",
   "metadata": {},
   "outputs": [],
   "source": [
    "def extract_epitope_distances_per_tcr(distance_string):\n",
    "    features = [float(d) for d in distance_string.split(',')]\n",
    "    y = 8\n",
    "    x = int(len(features)/y)\n",
    "    features = np.array(features)\n",
    "    features = np.reshape(features, newshape=(y, x))\n",
    "    \n",
    "    min_dist_epitope = np.min(features, axis=1)\n",
    "    return min_dist_epitope"
   ]
  },
  {
   "cell_type": "code",
   "execution_count": 4,
   "id": "d5c50ab8",
   "metadata": {},
   "outputs": [],
   "source": [
    "min_dists_alpha = []\n",
    "min_dists_beta = []\n",
    "\n",
    "for tcr in df_distances.index:\n",
    "    if not (tcr.startswith('Ed') or tcr == 'OT1'):\n",
    "        continue\n",
    "    dist_alpha = extract_epitope_distances_per_tcr(df_distances['features_alpha'][tcr])\n",
    "    min_dists_alpha.append(dist_alpha)\n",
    "    \n",
    "    dist_beta = extract_epitope_distances_per_tcr(df_distances['features_beta'][tcr])\n",
    "    min_dists_beta.append(dist_beta)\n",
    "\n",
    "min_dists_alpha = np.stack(min_dists_alpha).T\n",
    "min_dists_beta = np.stack(min_dists_beta).T"
   ]
  },
  {
   "cell_type": "code",
   "execution_count": 5,
   "id": "bae539be",
   "metadata": {},
   "outputs": [],
   "source": [
    "min_dists_joint = np.stack([min_dists_alpha, min_dists_beta])\n",
    "min_dists_joint = np.min(min_dists_joint, axis=0)"
   ]
  },
  {
   "cell_type": "code",
   "execution_count": 6,
   "id": "9e11deb9",
   "metadata": {},
   "outputs": [],
   "source": [
    "def plot_heatmap(data, title, labels, ticks, annot=False, vmax=20, vmin=0, center=0):\n",
    "    plt.figure(figsize=(15, 8))\n",
    "    plot = sns.heatmap(data, center=center, linewidths=0.5, cmap='RdBu_r', square=True, vmax=vmax, vmin=vmin, annot=annot)\n",
    "    \n",
    "    plot.set_title(title)\n",
    "    plot.set(xlabel=labels[0], ylabel=labels[1])\n",
    "    \n",
    "    if ticks[0] is not None:\n",
    "        plot.set_xticklabels(ticks[0])\n",
    "    if ticks[1] is not None:\n",
    "        plot.set_yticklabels(ticks[1])           \n",
    "\n",
    "    plt.show()"
   ]
  },
  {
   "cell_type": "code",
   "execution_count": 7,
   "id": "0d9a0015",
   "metadata": {},
   "outputs": [
    {
     "name": "stdout",
     "output_type": "stream",
     "text": [
      "Alpha\n"
     ]
    },
    {
     "data": {
      "image/png": "[encoded data removed]",
      "text/plain": [
       "<Figure size 1080x576 with 2 Axes>"
      ]
     },
     "metadata": {
      "needs_background": "light"
     },
     "output_type": "display_data"
    },
    {
     "name": "stdout",
     "output_type": "stream",
     "text": [
      "Beta\n"
     ]
    },
    {
     "data": {
      "image/png": "[encoded data removed]",
      "text/plain": [
       "<Figure size 1080x576 with 2 Axes>"
      ]
     },
     "metadata": {
      "needs_background": "light"
     },
     "output_type": "display_data"
    },
    {
     "name": "stdout",
     "output_type": "stream",
     "text": [
      "Joint\n"
     ]
    },
    {
     "data": {
      "image/png": "[encoded data removed]",
      "text/plain": [
       "<Figure size 1080x576 with 2 Axes>"
      ]
     },
     "metadata": {
      "needs_background": "light"
     },
     "output_type": "display_data"
    }
   ],
   "source": [
    "for dists, name in zip([min_dists_alpha, min_dists_beta, min_dists_joint], ['Alpha', 'Beta', 'Joint']):\n",
    "    print(name)\n",
    "    plot_heatmap(dists, f'distance TCR-epitope: {name}', [f'TCRs {name}', 'Epitope'], [None, list(range(1, 9))])"
   ]
  },
  {
   "cell_type": "code",
   "execution_count": 8,
   "id": "af51d3ab",
   "metadata": {},
   "outputs": [
    {
     "name": "stdout",
     "output_type": "stream",
     "text": [
      "Alpha\n"
     ]
    },
    {
     "data": {
      "image/png": "[encoded data removed]",
      "text/plain": [
       "<Figure size 1080x576 with 2 Axes>"
      ]
     },
     "metadata": {
      "needs_background": "light"
     },
     "output_type": "display_data"
    },
    {
     "name": "stdout",
     "output_type": "stream",
     "text": [
      "Beta\n"
     ]
    },
    {
     "data": {
      "image/png": "[encoded data removed]",
      "text/plain": [
       "<Figure size 1080x576 with 2 Axes>"
      ]
     },
     "metadata": {
      "needs_background": "light"
     },
     "output_type": "display_data"
    },
    {
     "name": "stdout",
     "output_type": "stream",
     "text": [
      "Joint\n"
     ]
    },
    {
     "data": {
      "image/png": "[encoded data removed]",
      "text/plain": [
       "<Figure size 1080x576 with 2 Axes>"
      ]
     },
     "metadata": {
      "needs_background": "light"
     },
     "output_type": "display_data"
    }
   ],
   "source": [
    "avg_alpha = np.mean(min_dists_alpha, axis=1).reshape((-1, 1))\n",
    "avg_beta = np.mean(min_dists_beta, axis=1).reshape((-1, 1))\n",
    "avg_joint = np.mean(min_dists_joint, axis=1).reshape((-1, 1))\n",
    "\n",
    "for dists, name in zip([avg_alpha, avg_beta, avg_joint], ['Alpha', 'Beta', 'Joint']):\n",
    "    print(name)\n",
    "    plot_heatmap(dists, f'AVG distances epitope: {name}', ['', 'Epitope'], [None, list(range(1, 9))], annot=True)"
   ]
  },
  {
   "cell_type": "markdown",
   "id": "16d8b86f",
   "metadata": {},
   "source": [
    "## Feature Importance"
   ]
  },
  {
   "cell_type": "code",
   "execution_count": 9,
   "id": "9b7743d3",
   "metadata": {},
   "outputs": [],
   "source": [
    "from sklearn.metrics import (average_precision_score, precision_recall_curve, roc_auc_score, roc_curve)"
   ]
  },
  {
   "cell_type": "code",
   "execution_count": 10,
   "id": "aec62100",
   "metadata": {},
   "outputs": [],
   "source": [
    "path_importance = '../activation-prediction/results/tcr_stratified_permutation_importance.csv.gz'\n",
    "pdf = pd.read_csv(path_importance, compression='gzip')"
   ]
  },
  {
   "cell_type": "code",
   "execution_count": 11,
   "id": "7861773c",
   "metadata": {},
   "outputs": [
    {
     "data": {
      "text/html": [
       "<div>\n",
       "<style scoped>\n",
       "    .dataframe tbody tr th:only-of-type {\n",
       "        vertical-align: middle;\n",
       "    }\n",
       "\n",
       "    .dataframe tbody tr th {\n",
       "        vertical-align: top;\n",
       "    }\n",
       "\n",
       "    .dataframe thead th {\n",
       "        text-align: right;\n",
       "    }\n",
       "</style>\n",
       "<table border=\"1\" class=\"dataframe\">\n",
       "  <thead>\n",
       "    <tr style=\"text-align: right;\">\n",
       "      <th></th>\n",
       "      <th>tcr</th>\n",
       "      <th>group</th>\n",
       "      <th>variable</th>\n",
       "      <th>value</th>\n",
       "      <th>base</th>\n",
       "      <th>diff</th>\n",
       "      <th>rel</th>\n",
       "      <th>item</th>\n",
       "      <th>is_educated</th>\n",
       "    </tr>\n",
       "  </thead>\n",
       "  <tbody>\n",
       "    <tr>\n",
       "      <th>960</th>\n",
       "      <td>ED10</td>\n",
       "      <td>pos_0</td>\n",
       "      <td>auc</td>\n",
       "      <td>0.946863</td>\n",
       "      <td>0.907941</td>\n",
       "      <td>0.038922</td>\n",
       "      <td>0.042868</td>\n",
       "      <td>pos</td>\n",
       "      <td>True</td>\n",
       "    </tr>\n",
       "    <tr>\n",
       "      <th>961</th>\n",
       "      <td>ED10</td>\n",
       "      <td>pos_0</td>\n",
       "      <td>auc</td>\n",
       "      <td>0.946863</td>\n",
       "      <td>0.907941</td>\n",
       "      <td>0.038922</td>\n",
       "      <td>0.042868</td>\n",
       "      <td>pos</td>\n",
       "      <td>True</td>\n",
       "    </tr>\n",
       "    <tr>\n",
       "      <th>962</th>\n",
       "      <td>ED10</td>\n",
       "      <td>pos_0</td>\n",
       "      <td>auc</td>\n",
       "      <td>0.944314</td>\n",
       "      <td>0.907941</td>\n",
       "      <td>0.036373</td>\n",
       "      <td>0.040060</td>\n",
       "      <td>pos</td>\n",
       "      <td>True</td>\n",
       "    </tr>\n",
       "    <tr>\n",
       "      <th>963</th>\n",
       "      <td>ED10</td>\n",
       "      <td>pos_0</td>\n",
       "      <td>auc</td>\n",
       "      <td>0.945000</td>\n",
       "      <td>0.907941</td>\n",
       "      <td>0.037059</td>\n",
       "      <td>0.040816</td>\n",
       "      <td>pos</td>\n",
       "      <td>True</td>\n",
       "    </tr>\n",
       "    <tr>\n",
       "      <th>964</th>\n",
       "      <td>ED10</td>\n",
       "      <td>pos_0</td>\n",
       "      <td>auc</td>\n",
       "      <td>0.939608</td>\n",
       "      <td>0.907941</td>\n",
       "      <td>0.031667</td>\n",
       "      <td>0.034877</td>\n",
       "      <td>pos</td>\n",
       "      <td>True</td>\n",
       "    </tr>\n",
       "    <tr>\n",
       "      <th>...</th>\n",
       "      <td>...</td>\n",
       "      <td>...</td>\n",
       "      <td>...</td>\n",
       "      <td>...</td>\n",
       "      <td>...</td>\n",
       "      <td>...</td>\n",
       "      <td>...</td>\n",
       "      <td>...</td>\n",
       "      <td>...</td>\n",
       "    </tr>\n",
       "    <tr>\n",
       "      <th>3595</th>\n",
       "      <td>ED9</td>\n",
       "      <td>pos_7</td>\n",
       "      <td>auc</td>\n",
       "      <td>0.903536</td>\n",
       "      <td>0.905025</td>\n",
       "      <td>-0.001488</td>\n",
       "      <td>-0.001644</td>\n",
       "      <td>pos</td>\n",
       "      <td>True</td>\n",
       "    </tr>\n",
       "    <tr>\n",
       "      <th>3596</th>\n",
       "      <td>ED9</td>\n",
       "      <td>pos_7</td>\n",
       "      <td>auc</td>\n",
       "      <td>0.903186</td>\n",
       "      <td>0.905025</td>\n",
       "      <td>-0.001838</td>\n",
       "      <td>-0.002031</td>\n",
       "      <td>pos</td>\n",
       "      <td>True</td>\n",
       "    </tr>\n",
       "    <tr>\n",
       "      <th>3597</th>\n",
       "      <td>ED9</td>\n",
       "      <td>pos_7</td>\n",
       "      <td>auc</td>\n",
       "      <td>0.907651</td>\n",
       "      <td>0.905025</td>\n",
       "      <td>0.002626</td>\n",
       "      <td>0.002902</td>\n",
       "      <td>pos</td>\n",
       "      <td>True</td>\n",
       "    </tr>\n",
       "    <tr>\n",
       "      <th>3598</th>\n",
       "      <td>ED9</td>\n",
       "      <td>pos_7</td>\n",
       "      <td>auc</td>\n",
       "      <td>0.910102</td>\n",
       "      <td>0.905025</td>\n",
       "      <td>0.005077</td>\n",
       "      <td>0.005610</td>\n",
       "      <td>pos</td>\n",
       "      <td>True</td>\n",
       "    </tr>\n",
       "    <tr>\n",
       "      <th>3599</th>\n",
       "      <td>ED9</td>\n",
       "      <td>pos_7</td>\n",
       "      <td>auc</td>\n",
       "      <td>0.907475</td>\n",
       "      <td>0.905025</td>\n",
       "      <td>0.002451</td>\n",
       "      <td>0.002708</td>\n",
       "      <td>pos</td>\n",
       "      <td>True</td>\n",
       "    </tr>\n",
       "  </tbody>\n",
       "</table>\n",
       "<p>1800 rows × 9 columns</p>\n",
       "</div>"
      ],
      "text/plain": [
       "       tcr  group variable     value      base      diff       rel item  \\\n",
       "960   ED10  pos_0      auc  0.946863  0.907941  0.038922  0.042868  pos   \n",
       "961   ED10  pos_0      auc  0.946863  0.907941  0.038922  0.042868  pos   \n",
       "962   ED10  pos_0      auc  0.944314  0.907941  0.036373  0.040060  pos   \n",
       "963   ED10  pos_0      auc  0.945000  0.907941  0.037059  0.040816  pos   \n",
       "964   ED10  pos_0      auc  0.939608  0.907941  0.031667  0.034877  pos   \n",
       "...    ...    ...      ...       ...       ...       ...       ...  ...   \n",
       "3595   ED9  pos_7      auc  0.903536  0.905025 -0.001488 -0.001644  pos   \n",
       "3596   ED9  pos_7      auc  0.903186  0.905025 -0.001838 -0.002031  pos   \n",
       "3597   ED9  pos_7      auc  0.907651  0.905025  0.002626  0.002902  pos   \n",
       "3598   ED9  pos_7      auc  0.910102  0.905025  0.005077  0.005610  pos   \n",
       "3599   ED9  pos_7      auc  0.907475  0.905025  0.002451  0.002708  pos   \n",
       "\n",
       "      is_educated  \n",
       "960          True  \n",
       "961          True  \n",
       "962          True  \n",
       "963          True  \n",
       "964          True  \n",
       "...           ...  \n",
       "3595         True  \n",
       "3596         True  \n",
       "3597         True  \n",
       "3598         True  \n",
       "3599         True  \n",
       "\n",
       "[1800 rows x 9 columns]"
      ]
     },
     "execution_count": 11,
     "metadata": {},
     "output_type": "execute_result"
    }
   ],
   "source": [
    "mdf = pdf[pdf['tcr'].isin(\n",
    "    pdf[pdf['is_activated'] > 0.5]['tcr'].unique()\n",
    ")].groupby(['tcr', 'group', 'shuffle']).apply(lambda q: pd.Series({\n",
    "    'auc': roc_auc_score(q['is_activated'], q['pred']),\n",
    "    'aps': average_precision_score(q['is_activated'], q['pred']),\n",
    "    #'spearman': stats.spearmanr(q['activation'], q['pred'])[0],\n",
    "})).reset_index().drop(columns='shuffle')\n",
    "ddf = mdf.melt(['tcr', 'group']).merge(\n",
    "    mdf[\n",
    "        mdf['group'] == 'all'\n",
    "    ].drop(columns='group').melt('tcr', value_name='base').drop_duplicates(),\n",
    "    on=['tcr', 'variable']\n",
    ")\n",
    "ddf['diff'] = ddf['value'] - ddf['base']\n",
    "ddf['rel'] = ddf['value'] / ddf['base'] - 1  # positive = increase\n",
    "ddf['item'] = ddf['group'].str.split('_').str[0]\n",
    "ddf['is_educated'] = ddf['tcr'].str.startswith('ED')\n",
    "ddf = ddf[ddf['item'] == 'pos']\n",
    "ddf = ddf[ddf['variable'] == 'auc']\n",
    "ddf = ddf[ddf['is_educated'] == True]\n",
    "ddf"
   ]
  },
  {
   "cell_type": "code",
   "execution_count": 12,
   "id": "5e1e814f",
   "metadata": {},
   "outputs": [
    {
     "data": {
      "text/plain": [
       "array([[0.87921469],\n",
       "       [0.86798719],\n",
       "       [0.88958029],\n",
       "       [0.78385278],\n",
       "       [0.88521488],\n",
       "       [0.81665715],\n",
       "       [0.87679096],\n",
       "       [0.8845276 ]])"
      ]
     },
     "execution_count": 12,
     "metadata": {},
     "output_type": "execute_result"
    }
   ],
   "source": [
    "feature_importances = []\n",
    "for pos in ddf['group'].unique():\n",
    "    imp = np.mean(ddf[ddf['group']==pos]['value'].values)\n",
    "    feature_importances.append(imp)\n",
    "feature_importances = np.array(feature_importances).reshape((-1, 1))\n",
    "feature_importances"
   ]
  },
  {
   "cell_type": "code",
   "execution_count": 13,
   "id": "a5d50b95",
   "metadata": {},
   "outputs": [
    {
     "data": {
      "image/png": "[encoded data removed]",
      "text/plain": [
       "<Figure size 1080x576 with 2 Axes>"
      ]
     },
     "metadata": {
      "needs_background": "light"
     },
     "output_type": "display_data"
    }
   ],
   "source": [
    "plot_heatmap(feature_importances, 'feat importance', ['', 'epitope pos'], [None, list(range(1, 9))], \n",
    "             annot=True, vmin=None, vmax=None, center=0.7)"
   ]
  },
  {
   "cell_type": "markdown",
   "id": "b7361520",
   "metadata": {},
   "source": [
    "## Correlation"
   ]
  },
  {
   "cell_type": "code",
   "execution_count": 14,
   "id": "6e0e7f16",
   "metadata": {},
   "outputs": [],
   "source": [
    "def create_corr_dataframe(data_1, data_2, name_1, name_2):\n",
    "    df_dict = {\n",
    "        name_1: data_1[:, 0],\n",
    "        name_2: data_2[:, 0]\n",
    "    }\n",
    "    df = pd.DataFrame(df_dict, index= list(range(1, len(data_1)+1)))\n",
    "    return df"
   ]
  },
  {
   "cell_type": "code",
   "execution_count": 15,
   "id": "8859439d",
   "metadata": {},
   "outputs": [],
   "source": [
    "df_alpha_imp = create_corr_dataframe(feature_importances, avg_alpha, 'importance', 'distance')\n",
    "df_beta_imp = create_corr_dataframe(feature_importances, avg_beta, 'importance', 'distance')\n",
    "df_joint_imp = create_corr_dataframe(feature_importances, avg_joint, 'importance', 'distance')"
   ]
  },
  {
   "cell_type": "code",
   "execution_count": 16,
   "id": "b8698103",
   "metadata": {},
   "outputs": [
    {
     "data": {
      "text/html": [
       "<div>\n",
       "<style scoped>\n",
       "    .dataframe tbody tr th:only-of-type {\n",
       "        vertical-align: middle;\n",
       "    }\n",
       "\n",
       "    .dataframe tbody tr th {\n",
       "        vertical-align: top;\n",
       "    }\n",
       "\n",
       "    .dataframe thead th {\n",
       "        text-align: right;\n",
       "    }\n",
       "</style>\n",
       "<table border=\"1\" class=\"dataframe\">\n",
       "  <thead>\n",
       "    <tr style=\"text-align: right;\">\n",
       "      <th></th>\n",
       "      <th>importance</th>\n",
       "      <th>distance</th>\n",
       "    </tr>\n",
       "  </thead>\n",
       "  <tbody>\n",
       "    <tr>\n",
       "      <th>1</th>\n",
       "      <td>0.879215</td>\n",
       "      <td>10.544386</td>\n",
       "    </tr>\n",
       "    <tr>\n",
       "      <th>2</th>\n",
       "      <td>0.867987</td>\n",
       "      <td>9.906768</td>\n",
       "    </tr>\n",
       "    <tr>\n",
       "      <th>3</th>\n",
       "      <td>0.889580</td>\n",
       "      <td>9.295570</td>\n",
       "    </tr>\n",
       "    <tr>\n",
       "      <th>4</th>\n",
       "      <td>0.783853</td>\n",
       "      <td>6.035286</td>\n",
       "    </tr>\n",
       "    <tr>\n",
       "      <th>5</th>\n",
       "      <td>0.885215</td>\n",
       "      <td>8.675937</td>\n",
       "    </tr>\n",
       "    <tr>\n",
       "      <th>6</th>\n",
       "      <td>0.816657</td>\n",
       "      <td>4.662379</td>\n",
       "    </tr>\n",
       "    <tr>\n",
       "      <th>7</th>\n",
       "      <td>0.876791</td>\n",
       "      <td>7.375354</td>\n",
       "    </tr>\n",
       "    <tr>\n",
       "      <th>8</th>\n",
       "      <td>0.884528</td>\n",
       "      <td>9.300225</td>\n",
       "    </tr>\n",
       "  </tbody>\n",
       "</table>\n",
       "</div>"
      ],
      "text/plain": [
       "   importance   distance\n",
       "1    0.879215  10.544386\n",
       "2    0.867987   9.906768\n",
       "3    0.889580   9.295570\n",
       "4    0.783853   6.035286\n",
       "5    0.885215   8.675937\n",
       "6    0.816657   4.662379\n",
       "7    0.876791   7.375354\n",
       "8    0.884528   9.300225"
      ]
     },
     "execution_count": 16,
     "metadata": {},
     "output_type": "execute_result"
    }
   ],
   "source": [
    "df_joint_imp"
   ]
  },
  {
   "cell_type": "code",
   "execution_count": 17,
   "id": "5bfdae5d",
   "metadata": {},
   "outputs": [
    {
     "data": {
      "text/html": [
       "<div>\n",
       "<style scoped>\n",
       "    .dataframe tbody tr th:only-of-type {\n",
       "        vertical-align: middle;\n",
       "    }\n",
       "\n",
       "    .dataframe tbody tr th {\n",
       "        vertical-align: top;\n",
       "    }\n",
       "\n",
       "    .dataframe thead th {\n",
       "        text-align: right;\n",
       "    }\n",
       "</style>\n",
       "<table border=\"1\" class=\"dataframe\">\n",
       "  <thead>\n",
       "    <tr style=\"text-align: right;\">\n",
       "      <th></th>\n",
       "      <th>importance</th>\n",
       "      <th>distance</th>\n",
       "    </tr>\n",
       "  </thead>\n",
       "  <tbody>\n",
       "    <tr>\n",
       "      <th>importance</th>\n",
       "      <td>1.000000</td>\n",
       "      <td>0.787999</td>\n",
       "    </tr>\n",
       "    <tr>\n",
       "      <th>distance</th>\n",
       "      <td>0.787999</td>\n",
       "      <td>1.000000</td>\n",
       "    </tr>\n",
       "  </tbody>\n",
       "</table>\n",
       "</div>"
      ],
      "text/plain": [
       "            importance  distance\n",
       "importance    1.000000  0.787999\n",
       "distance      0.787999  1.000000"
      ]
     },
     "execution_count": 17,
     "metadata": {},
     "output_type": "execute_result"
    }
   ],
   "source": [
    "corr = df_joint_imp.corr(method='pearson')\n",
    "corr_val = corr['importance']['distance']\n",
    "corr"
   ]
  },
  {
   "cell_type": "code",
   "execution_count": 18,
   "id": "1548b388",
   "metadata": {},
   "outputs": [
    {
     "data": {
      "image/png": "[encoded data removed]",
      "text/plain": [
       "<Figure size 432x288 with 1 Axes>"
      ]
     },
     "metadata": {
      "needs_background": "light"
     },
     "output_type": "display_data"
    }
   ],
   "source": [
    "plot = sns.regplot(data=df_joint_imp, ci=None, x='importance', y='distance')\n",
    "plot.set_title(f'Pearson Correlation: {corr_val:.2f}')\n",
    "\n",
    "for line in range(1 ,df_joint_imp.shape[0]+1):\n",
    "     plt.text(df_joint_imp.importance[line]+0.001, df_joint_imp.distance[line], line, horizontalalignment='left', size='medium', color='black', weight='semibold')\n",
    "\n",
    "\n",
    "#plt.ylim(0, 1)\n",
    "plt.xlim(0.78, 0.895)\n",
    "\n",
    "#plot.plot((0, 1), (0, 1), 'r--')\n",
    "\n",
    "#plt.show()\n",
    "plt.savefig('../activation-prediction/figures/correlation_distances_importance.png', dpi=300)\n",
    "plt.savefig('../activation-prediction/figures/correlation_distances_importance.pdf', dpi=300)"
   ]
  }
 ],
 "metadata": {
  "kernelspec": {
   "display_name": "Python [conda env:mutagenesis]",
   "language": "python",
   "name": "conda-env-mutagenesis-py"
  },
  "language_info": {
   "codemirror_mode": {
    "name": "ipython",
    "version": 3
   },
   "file_extension": ".py",
   "mimetype": "text/x-python",
   "name": "python",
   "nbconvert_exporter": "python",
   "pygments_lexer": "ipython3",
   "version": "3.8.10"
  }
 },
 "nbformat": 4,
 "nbformat_minor": 5
}
