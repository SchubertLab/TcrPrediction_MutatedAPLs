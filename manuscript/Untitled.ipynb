{
 "cells": [
  {
   "cell_type": "code",
   "execution_count": 1,
   "id": "2c59c229",
   "metadata": {},
   "outputs": [],
   "source": [
    "import pandas as pd\n",
    "import numpy as np\n",
    "import sys\n",
    "sys.path.append('../activation-prediction/')\n",
    "import preprocessing"
   ]
  },
  {
   "cell_type": "code",
   "execution_count": 3,
   "id": "a329f284",
   "metadata": {},
   "outputs": [],
   "source": [
    "fname = f'../activation-prediction/results/VPSVWRSSL_tcr_specific_data_size.csv.gz'\n",
    "ppdf = pd.read_csv(fname)"
   ]
  },
  {
   "cell_type": "code",
   "execution_count": 22,
   "id": "0e7db935",
   "metadata": {},
   "outputs": [
    {
     "data": {
      "text/plain": [
       "False"
      ]
     },
     "execution_count": 22,
     "metadata": {},
     "output_type": "execute_result"
    }
   ],
   "source": [
    "not ppdf['pred_prob'].isna().any()"
   ]
  },
  {
   "cell_type": "code",
   "execution_count": 18,
   "id": "57ab3dbd",
   "metadata": {},
   "outputs": [
    {
     "data": {
      "text/plain": [
       "R28    882\n",
       "R24    635\n",
       "R23    127\n",
       "Name: tcr, dtype: int64"
      ]
     },
     "execution_count": 18,
     "metadata": {},
     "output_type": "execute_result"
    }
   ],
   "source": [
    "ppdf[ppdf['pred_prob'].isna()]['tcr'].value_counts()"
   ]
  }
 ],
 "metadata": {
  "kernelspec": {
   "display_name": "Python [conda env:mutagenesis]",
   "language": "python",
   "name": "conda-env-mutagenesis-py"
  },
  "language_info": {
   "codemirror_mode": {
    "name": "ipython",
    "version": 3
   },
   "file_extension": ".py",
   "mimetype": "text/x-python",
   "name": "python",
   "nbconvert_exporter": "python",
   "pygments_lexer": "ipython3",
   "version": "3.8.10"
  }
 },
 "nbformat": 4,
 "nbformat_minor": 5
}
